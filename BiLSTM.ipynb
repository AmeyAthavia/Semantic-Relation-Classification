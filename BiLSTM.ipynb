{
  "nbformat": 4,
  "nbformat_minor": 0,
  "metadata": {
    "colab": {
      "provenance": []
    },
    "kernelspec": {
      "name": "python3",
      "display_name": "Python 3"
    },
    "language_info": {
      "name": "python"
    },
    "accelerator": "GPU",
    "gpuClass": "standard"
  },
  "cells": [
    {
      "cell_type": "code",
      "execution_count": 1,
      "metadata": {
        "colab": {
          "base_uri": "https://localhost:8080/"
        },
        "id": "_uewxhbanbDY",
        "outputId": "d739affc-fc83-4f0d-d623-83528675fa3a"
      },
      "outputs": [
        {
          "output_type": "stream",
          "name": "stdout",
          "text": [
            "Mounted at /content/drive\n"
          ]
        }
      ],
      "source": [
        "from google.colab import drive\n",
        "drive.mount('/content/drive')"
      ]
    },
    {
      "cell_type": "code",
      "source": [
        "%cd /content/drive/MyDrive/SemEval2010_task8_all_data"
      ],
      "metadata": {
        "colab": {
          "base_uri": "https://localhost:8080/"
        },
        "id": "-5dZA3-KneVz",
        "outputId": "43d95870-ccf0-4a46-9906-0f270fe565e5"
      },
      "execution_count": 2,
      "outputs": [
        {
          "output_type": "stream",
          "name": "stdout",
          "text": [
            "/content/drive/MyDrive/SemEval2010_task8_all_data\n"
          ]
        }
      ]
    },
    {
      "cell_type": "code",
      "source": [
        "!ls"
      ],
      "metadata": {
        "colab": {
          "base_uri": "https://localhost:8080/"
        },
        "id": "5AW6HPYbnkzU",
        "outputId": "3e7c0647-b902-402b-ae5e-2dc9146f0062"
      },
      "execution_count": 3,
      "outputs": [
        {
          "output_type": "stream",
          "name": "stdout",
          "text": [
            "SemEval2010_task8_scorer-v1.2\tSemEval2010_task8_training\n",
            "SemEval2010_task8_testing\tSEMEVAL_TASK8_FULL_RELEASE_README.txt\n",
            "SemEval2010_task8_testing_keys\n"
          ]
        }
      ]
    },
    {
      "cell_type": "code",
      "source": [
        "import numpy as np\n",
        "from sklearn.model_selection import train_test_split\n",
        "from tensorflow.keras.models import Model,Sequential\n",
        "from tensorflow.keras.preprocessing.text import Tokenizer\n",
        "from tensorflow.keras.preprocessing.sequence import pad_sequences\n",
        "from tensorflow.keras.layers import LSTM,Bidirectional,Embedding,Dense,Input\n",
        "from sklearn.metrics import confusion_matrix, classification_report\n",
        "from tensorflow.keras.utils import to_categorical\n",
        "import matplotlib.pyplot as plt\n",
        "import os"
      ],
      "metadata": {
        "id": "75QV2u1Xnq96"
      },
      "execution_count": 4,
      "outputs": []
    },
    {
      "cell_type": "code",
      "source": [
        "import re\n",
        "pattern = '\\<e1\\>.+\\<\\/e1\\>'\n",
        "def load_corpus(path):\n",
        "    data = {}\n",
        "    with open(os.path.join(path)) as f:\n",
        "            d = f.read()\n",
        "    d = d.split('\\t')\n",
        "    \n",
        "    for i in d:\n",
        "      temp = i.split('\\n')\n",
        "      if len(temp) > 2:\n",
        "        x1 = re.search('\\<e1\\>.+\\<\\/e1\\>',temp[0])\n",
        "        if x1:\n",
        "          #temp[0][x1.span()[0]:x1.span()[1]] = temp[0][x1.span()[0]+4:x1.span()[1]-5]\n",
        "          temp[0] = temp[0][:x1.span()[0]] + temp[0][x1.span()[0]+4:x1.span()[1]-5] + temp[0][x1.span()[1]:]\n",
        "        \n",
        "        x2 = re.search('\\<e2\\>.+\\<\\/e2\\>',temp[0])\n",
        "        if x2:\n",
        "          temp[0] = temp[0][:x2.span()[0]] + temp[0][x2.span()[0]+4:x2.span()[1]-5] + temp[0][x2.span()[1]:]\n",
        "\n",
        "        t = temp[1].split('(')\n",
        "        if t[0] == 'Cause-Effect' or t[0] == 'Component-Whole' or t[0] == 'Product-Producer':\n",
        "          data[temp[0]] = t[0]\n",
        "        else:\n",
        "          data[temp[0]] = 'Other'\n",
        "        \n",
        "    return(data)"
      ],
      "metadata": {
        "id": "WJPB-mc_nsem"
      },
      "execution_count": 5,
      "outputs": []
    },
    {
      "cell_type": "code",
      "source": [
        "Data = load_corpus('SemEval2010_task8_training/TRAIN_FILE.TXT')\n",
        "\n",
        "#modified_brown"
      ],
      "metadata": {
        "id": "3DxI5cBjnuHL"
      },
      "execution_count": 6,
      "outputs": []
    },
    {
      "cell_type": "code",
      "source": [
        "arr = plt.hist(Data.values())"
      ],
      "metadata": {
        "colab": {
          "base_uri": "https://localhost:8080/",
          "height": 265
        },
        "id": "8aTnHu_Gnvn4",
        "outputId": "ff90abd6-e274-440a-96bf-ed21a67d9a29"
      },
      "execution_count": 7,
      "outputs": [
        {
          "output_type": "display_data",
          "data": {
            "text/plain": [
              "<Figure size 432x288 with 1 Axes>"
            ],
            "image/png": "[encoded data removed]"
          },
          "metadata": {
            "needs_background": "light"
          }
        }
      ]
    },
    {
      "cell_type": "code",
      "source": [
        "#Statistics\n",
        "t = ['Component-Whole','Other,','Cause-Effect','Product-Producer']\n",
        "s = sum(arr[0])\n",
        "j = 0\n",
        "for i in arr[0]:\n",
        "  if i > 0:\n",
        "    per = (i/s)*100\n",
        "\n",
        "    print('{0}: {1} ({2}%)'.format(t[j],i,round(per,2)))\n",
        "    j+=1"
      ],
      "metadata": {
        "colab": {
          "base_uri": "https://localhost:8080/"
        },
        "id": "2gx2KWW6nxG9",
        "outputId": "b5ea22bd-5724-4be2-ae8b-f5d99197afc6"
      },
      "execution_count": 8,
      "outputs": [
        {
          "output_type": "stream",
          "name": "stdout",
          "text": [
            "Component-Whole: 941.0 (11.8%)\n",
            "Other,: 5320.0 (66.71%)\n",
            "Cause-Effect: 999.0 (12.53%)\n",
            "Product-Producer: 715.0 (8.97%)\n"
          ]
        }
      ]
    },
    {
      "cell_type": "code",
      "source": [
        "tag = {s for s in Data.values()}\n",
        "\n",
        "num_tags = len(tag)\n",
        "sent = list(Data.keys())\n",
        "unique_vocab = {word.lower() for s in sent for word in s.split()}\n",
        "num_vocab = len(unique_vocab)"
      ],
      "metadata": {
        "id": "aeBUq0CXnzes"
      },
      "execution_count": 9,
      "outputs": []
    },
    {
      "cell_type": "code",
      "source": [
        "num_vocab"
      ],
      "metadata": {
        "colab": {
          "base_uri": "https://localhost:8080/"
        },
        "id": "S3K4se4in1Od",
        "outputId": "31d62e8a-0b93-4454-9f07-b57f298deda6"
      },
      "execution_count": 10,
      "outputs": [
        {
          "output_type": "execute_result",
          "data": {
            "text/plain": [
              "27267"
            ]
          },
          "metadata": {},
          "execution_count": 10
        }
      ]
    },
    {
      "cell_type": "code",
      "source": [
        "#creating dataset\n",
        "sent_tokens = Tokenizer(20000,lower=True)\n",
        "sent_tokens.fit_on_texts(sent)\n",
        "sent_encoded = sent_tokens.texts_to_sequences(sent)\n",
        "\n",
        "tags_tokens = Tokenizer(filters='!\"#$%&()*+,./:;<=>?@[\\\\]^_`{|}~\\t\\n')\n",
        "tags_tokens.fit_on_texts(Data.values())\n",
        "tags_encoded = tags_tokens.texts_to_sequences(Data.values())"
      ],
      "metadata": {
        "id": "VYyhGbQooA56"
      },
      "execution_count": 11,
      "outputs": []
    },
    {
      "cell_type": "code",
      "source": [
        "#padding sequence \n",
        "\n",
        "lengths = [len(seq) for seq in sent_encoded]\n",
        "max(lengths)\n",
        "plt.boxplot(lengths)\n",
        "plt.show()"
      ],
      "metadata": {
        "colab": {
          "base_uri": "https://localhost:8080/",
          "height": 265
        },
        "id": "LAk7XYRooB-T",
        "outputId": "1b434d52-ff6f-4a7d-9bc9-c5a78639c373"
      },
      "execution_count": 12,
      "outputs": [
        {
          "output_type": "display_data",
          "data": {
            "text/plain": [
              "<Figure size 432x288 with 1 Axes>"
            ],
            "image/png": "[encoded data removed]"
          },
          "metadata": {
            "needs_background": "light"
          }
        }
      ]
    },
    {
      "cell_type": "code",
      "source": [
        "max_len = 100\n",
        "sent_paddded = pad_sequences(sent_encoded,maxlen=max_len,truncating='post')\n",
        "#tags_paddded = pad_sequences(tags_encoded,maxlen=max_len,truncating='post')"
      ],
      "metadata": {
        "id": "-X7u2AiPoDfY"
      },
      "execution_count": 13,
      "outputs": []
    },
    {
      "cell_type": "code",
      "source": [
        "tags_paddded = to_categorical(tags_encoded,num_classes=num_tags+1)\n",
        "X_train, X_test, Y_train, Y_test = train_test_split(sent_paddded, tags_paddded, test_size=0.2, random_state=42)"
      ],
      "metadata": {
        "id": "6skis3K8oFQn"
      },
      "execution_count": 17,
      "outputs": []
    },
    {
      "cell_type": "code",
      "source": [
        "X_train.shape,Y_train.shape"
      ],
      "metadata": {
        "colab": {
          "base_uri": "https://localhost:8080/"
        },
        "id": "BcCmYYdloGlH",
        "outputId": "40d17682-66d7-46aa-e123-6e995521f7d7"
      },
      "execution_count": 18,
      "outputs": [
        {
          "output_type": "execute_result",
          "data": {
            "text/plain": [
              "((6380, 100), (6380, 5))"
            ]
          },
          "metadata": {},
          "execution_count": 18
        }
      ]
    },
    {
      "cell_type": "code",
      "source": [
        "embedding_size = 100\n",
        "model = Sequential()\n",
        "model.add(Embedding(20000, 200, input_length=sent_paddded.shape[1]))\n",
        "model.add(Bidirectional(LSTM(512, dropout=0.8, recurrent_dropout=0.8)))\n",
        "model.add(Dense(tags_paddded.shape[1], activation='softmax'))\n",
        "model.compile(optimizer='adam', loss='categorical_crossentropy', metrics=['acc'])\n",
        "print(model.summary())"
      ],
      "metadata": {
        "colab": {
          "base_uri": "https://localhost:8080/"
        },
        "id": "69VWTfudoI4f",
        "outputId": "58f2f680-5bf2-4fbe-db96-ed30568f1ede"
      },
      "execution_count": 19,
      "outputs": [
        {
          "output_type": "stream",
          "name": "stderr",
          "text": [
            "WARNING:tensorflow:Layer lstm will not use cuDNN kernels since it doesn't meet the criteria. It will use a generic GPU kernel as fallback when running on GPU.\n",
            "WARNING:tensorflow:Layer lstm will not use cuDNN kernels since it doesn't meet the criteria. It will use a generic GPU kernel as fallback when running on GPU.\n",
            "WARNING:tensorflow:Layer lstm will not use cuDNN kernels since it doesn't meet the criteria. It will use a generic GPU kernel as fallback when running on GPU.\n"
          ]
        },
        {
          "output_type": "stream",
          "name": "stdout",
          "text": [
            "Model: \"sequential\"\n",
            "_________________________________________________________________\n",
            " Layer (type)                Output Shape              Param #   \n",
            "=================================================================\n",
            " embedding (Embedding)       (None, 100, 200)          4000000   \n",
            "                                                                 \n",
            " bidirectional (Bidirectiona  (None, 1024)             2920448   \n",
            " l)                                                              \n",
            "                                                                 \n",
            " dense (Dense)               (None, 5)                 5125      \n",
            "                                                                 \n",
            "=================================================================\n",
            "Total params: 6,925,573\n",
            "Trainable params: 6,925,573\n",
            "Non-trainable params: 0\n",
            "_________________________________________________________________\n",
            "None\n"
          ]
        }
      ]
    },
    {
      "cell_type": "code",
      "source": [
        "model_res = model.fit(X_train, Y_train, epochs=13, batch_size=256, validation_split=0.2)"
      ],
      "metadata": {
        "colab": {
          "base_uri": "https://localhost:8080/"
        },
        "id": "rjoxfN9AoLK2",
        "outputId": "6b0b8409-9b4f-4be2-c7c7-18cd8a00ff06"
      },
      "execution_count": 20,
      "outputs": [
        {
          "output_type": "stream",
          "name": "stdout",
          "text": [
            "Epoch 1/13\n",
            "20/20 [==============================] - 28s 946ms/step - loss: 1.1522 - acc: 0.6485 - val_loss: 0.9830 - val_acc: 0.6810\n",
            "Epoch 2/13\n",
            "20/20 [==============================] - 19s 938ms/step - loss: 0.9790 - acc: 0.6685 - val_loss: 0.9343 - val_acc: 0.6810\n",
            "Epoch 3/13\n",
            "20/20 [==============================] - 19s 970ms/step - loss: 0.8890 - acc: 0.6885 - val_loss: 0.8271 - val_acc: 0.7100\n",
            "Epoch 4/13\n",
            "20/20 [==============================] - 19s 970ms/step - loss: 0.7410 - acc: 0.7377 - val_loss: 0.7679 - val_acc: 0.7328\n",
            "Epoch 5/13\n",
            "20/20 [==============================] - 19s 930ms/step - loss: 0.5930 - acc: 0.7839 - val_loss: 0.8481 - val_acc: 0.7492\n",
            "Epoch 6/13\n",
            "20/20 [==============================] - 19s 934ms/step - loss: 0.4737 - acc: 0.8250 - val_loss: 0.7900 - val_acc: 0.7382\n",
            "Epoch 7/13\n",
            "20/20 [==============================] - 18s 920ms/step - loss: 0.3712 - acc: 0.8670 - val_loss: 0.8079 - val_acc: 0.7328\n",
            "Epoch 8/13\n",
            "20/20 [==============================] - 20s 986ms/step - loss: 0.2843 - acc: 0.9040 - val_loss: 0.8539 - val_acc: 0.7351\n",
            "Epoch 9/13\n",
            "20/20 [==============================] - 21s 1s/step - loss: 0.2167 - acc: 0.9287 - val_loss: 0.8393 - val_acc: 0.7445\n",
            "Epoch 10/13\n",
            "20/20 [==============================] - 19s 937ms/step - loss: 0.1471 - acc: 0.9536 - val_loss: 0.8978 - val_acc: 0.7539\n",
            "Epoch 11/13\n",
            "20/20 [==============================] - 19s 928ms/step - loss: 0.1124 - acc: 0.9628 - val_loss: 0.8576 - val_acc: 0.7461\n",
            "Epoch 12/13\n",
            "20/20 [==============================] - 19s 933ms/step - loss: 0.0806 - acc: 0.9775 - val_loss: 0.9402 - val_acc: 0.7539\n",
            "Epoch 13/13\n",
            "20/20 [==============================] - 18s 914ms/step - loss: 0.0679 - acc: 0.9812 - val_loss: 1.0277 - val_acc: 0.7531\n"
          ]
        }
      ]
    },
    {
      "cell_type": "code",
      "source": [
        "plt.plot(model_res.history['acc'])\n",
        "plt.plot(model_res.history['val_acc'])\n",
        "plt.title('model accuracy')\n",
        "plt.ylabel('accuracy')\n",
        "plt.xlabel('epoch')\n",
        "plt.legend(['train', 'test'], loc=\"lower right\")\n",
        "plt.show()"
      ],
      "metadata": {
        "colab": {
          "base_uri": "https://localhost:8080/",
          "height": 295
        },
        "id": "IzMZwQvjoO-3",
        "outputId": "4d5fc1f1-731d-4df1-f339-5e2dbad08d5f"
      },
      "execution_count": 21,
      "outputs": [
        {
          "output_type": "display_data",
          "data": {
            "text/plain": [
              "<Figure size 432x288 with 1 Axes>"
            ],
            "image/png": "[encoded data removed]"
          },
          "metadata": {
            "needs_background": "light"
          }
        }
      ]
    },
    {
      "cell_type": "code",
      "source": [
        "out = model.predict(X_test,verbose=1)\n",
        "predictions = [np.argmax(pred) for pred in out]\n",
        "true_predictions = [np.argmax(p) for p in Y_test]\n",
        "print(classification_report(true_predictions, predictions))\n",
        "print(confusion_matrix(true_predictions, predictions))"
      ],
      "metadata": {
        "colab": {
          "base_uri": "https://localhost:8080/"
        },
        "id": "VGoM1shFoQzk",
        "outputId": "17c6309d-4e6a-47b5-895a-8f77936bd995"
      },
      "execution_count": 22,
      "outputs": [
        {
          "output_type": "stream",
          "name": "stdout",
          "text": [
            "50/50 [==============================] - 4s 75ms/step\n",
            "              precision    recall  f1-score   support\n",
            "\n",
            "           1       0.79      0.88      0.83      1039\n",
            "           2       0.77      0.70      0.74       210\n",
            "           3       0.42      0.41      0.41       191\n",
            "           4       0.62      0.22      0.32       155\n",
            "\n",
            "    accuracy                           0.73      1595\n",
            "   macro avg       0.65      0.55      0.58      1595\n",
            "weighted avg       0.72      0.73      0.72      1595\n",
            "\n",
            "[[910  32  85  12]\n",
            " [ 41 148  13   8]\n",
            " [107   4  79   1]\n",
            " [100   8  13  34]]\n"
          ]
        }
      ]
    },
    {
      "cell_type": "code",
      "source": [
        "test_Data = load_corpus('SemEval2010_task8_testing_keys/TEST_FILE_FULL.TXT')\n",
        "\n",
        "test_tag = {s for s in test_Data.values()}\n",
        "num_test_tags = len(test_tag)\n",
        "test_sent = list(test_Data.keys())\n",
        "unique_vocab_test = {word.lower() for s in test_sent for word in s.split()}\n",
        "test_num_vocab = len(unique_vocab_test)\n",
        "\n",
        "sent_tokens = Tokenizer(20000,lower=True)\n",
        "sent_tokens.fit_on_texts(sent)\n",
        "sent_encoded = sent_tokens.texts_to_sequences(sent)\n",
        "\n",
        "tags_tokens = Tokenizer(filters='!\"#$%&()*+,./:;<=>?@[\\\\]^_`{|}~\\t\\n')\n",
        "tags_tokens.fit_on_texts(Data.values())\n",
        "tags_encoded = tags_tokens.texts_to_sequences(Data.values())\n",
        "\n",
        "max_len = 100\n",
        "sent_paddded = pad_sequences(sent_encoded,maxlen=max_len,truncating='post')\n",
        "\n",
        "tags_paddded = to_categorical(tags_encoded,num_classes=num_tags+1)"
      ],
      "metadata": {
        "id": "an-uJf1ioSkZ"
      },
      "execution_count": 23,
      "outputs": []
    },
    {
      "cell_type": "code",
      "source": [
        "arr = plt.hist(test_Data.values())"
      ],
      "metadata": {
        "colab": {
          "base_uri": "https://localhost:8080/",
          "height": 265
        },
        "id": "58KBLLeboV6F",
        "outputId": "f977f297-47f2-4ef0-ef95-d582711cfad7"
      },
      "execution_count": 24,
      "outputs": [
        {
          "output_type": "display_data",
          "data": {
            "text/plain": [
              "<Figure size 432x288 with 1 Axes>"
            ],
            "image/png": "[encoded data removed]"
          },
          "metadata": {
            "needs_background": "light"
          }
        }
      ]
    },
    {
      "cell_type": "code",
      "source": [
        "t = ['Other,','Product-Producer','Cause-Effect','Component-Whole']\n",
        "s = sum(arr[0])\n",
        "j = 0\n",
        "for i in arr[0]:\n",
        "  if i > 0:\n",
        "    per = (i/s)*100\n",
        "\n",
        "    print('{0}: {1} ({2}%)'.format(t[j],i,round(per,2)))\n",
        "    j+=1"
      ],
      "metadata": {
        "colab": {
          "base_uri": "https://localhost:8080/"
        },
        "id": "ZeV-z8QfoXxO",
        "outputId": "3aff9cce-0f7a-4257-d862-a1a38b3c3c11"
      },
      "execution_count": 25,
      "outputs": [
        {
          "output_type": "stream",
          "name": "stdout",
          "text": [
            "Other,: 1845.0 (67.98%)\n",
            "Product-Producer: 231.0 (8.51%)\n",
            "Cause-Effect: 327.0 (12.05%)\n",
            "Component-Whole: 311.0 (11.46%)\n"
          ]
        }
      ]
    },
    {
      "cell_type": "code",
      "source": [
        "out2 = model.predict(sent_paddded,verbose=1)\n",
        "predictions2 = [np.argmax(pred) for pred in out2]\n",
        "true_predictions = [np.argmax(p) for p in tags_paddded]\n",
        "print(classification_report(true_predictions, predictions2))\n",
        "print(confusion_matrix(true_predictions, predictions2))\n"
      ],
      "metadata": {
        "colab": {
          "base_uri": "https://localhost:8080/"
        },
        "id": "ij49aR-MoZQI",
        "outputId": "009979fb-7cf6-4404-e59e-fbaf211eee15"
      },
      "execution_count": 26,
      "outputs": [
        {
          "output_type": "stream",
          "name": "stdout",
          "text": [
            "250/250 [==============================] - 19s 76ms/step\n",
            "              precision    recall  f1-score   support\n",
            "\n",
            "           1       0.92      0.96      0.94      5320\n",
            "           2       0.91      0.89      0.90       999\n",
            "           3       0.79      0.79      0.79       941\n",
            "           4       0.90      0.70      0.79       715\n",
            "\n",
            "    accuracy                           0.91      7975\n",
            "   macro avg       0.88      0.83      0.86      7975\n",
            "weighted avg       0.90      0.91      0.90      7975\n",
            "\n",
            "[[5084   52  149   35]\n",
            " [  69  892   22   16]\n",
            " [ 181   14  743    3]\n",
            " [ 174   20   21  500]]\n"
          ]
        }
      ]
    },
    {
      "cell_type": "code",
      "source": [
        "\n",
        "#pred_tags = tags_tokens.sequences_to_texts(predictions2)\n",
        "\n",
        "for i in range(50):\n",
        "  if true_predictions[i] != predictions2[i]:\n",
        "    print(str(i)+ ':\\t'+test_sent[i] + '\\n' + 'True tag: '+ str(true_predictions[i]) + '\\tPredicted Tag: '+ str(predictions2[i]))"
      ],
      "metadata": {
        "colab": {
          "base_uri": "https://localhost:8080/"
        },
        "id": "tRwMsG-7oalZ",
        "outputId": "602751c5-b03e-4dd1-d7b4-040f5f32f08d"
      },
      "execution_count": 28,
      "outputs": [
        {
          "output_type": "stream",
          "name": "stdout",
          "text": [
            "4:\t\"Avian influenza is an infectious disease of birds caused by type A strains of the influenza virus.\"\n",
            "True tag: 1\tPredicted Tag: 4\n",
            "17:\t\"An FTP server is an inexpensive and relatively simple to operate tool that works great for filesharing over the internet.\"\n",
            "True tag: 4\tPredicted Tag: 1\n",
            "19:\t\"The song was composed for a famous Brazilian musician.\"\n",
            "True tag: 1\tPredicted Tag: 4\n",
            "31:\t\"Many of his literary pieces narrate and mention stories that took place in Lipa.\"\n",
            "True tag: 2\tPredicted Tag: 4\n",
            "34:\t\"The man at the helm was watching the luff of the sail and whistling away gently to himself, and that was the only sound excepting the swish of the sea.\"\n",
            "True tag: 3\tPredicted Tag: 1\n",
            "37:\t\"The cartridge was marked as empty, even with ink in both chambers.\"\n",
            "True tag: 3\tPredicted Tag: 1\n",
            "41:\t\"My cat has a problem with his paw.\"\n",
            "True tag: 1\tPredicted Tag: 3\n"
          ]
        }
      ]
    },
    {
      "cell_type": "code",
      "source": [],
      "metadata": {
        "id": "hMLqLYG2rXNV"
      },
      "execution_count": null,
      "outputs": []
    }
  ]
}